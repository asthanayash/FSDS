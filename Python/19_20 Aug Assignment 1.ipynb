{
 "cells": [
  {
   "cell_type": "markdown",
   "id": "aaef8e9c",
   "metadata": {},
   "source": [
    "# Assignment 1\n",
    "       1.Python Basics Variable\n",
    "       2.String Based Questions"
   ]
  },
  {
   "cell_type": "markdown",
   "id": "29096dfd",
   "metadata": {},
   "source": [
    "### 1. Declare two variables, `x` and `y`, and assign them integer values. Swap the values of these variables without using any temporary variable."
   ]
  },
  {
   "cell_type": "code",
   "execution_count": 24,
   "id": "eeb15797",
   "metadata": {},
   "outputs": [
    {
     "name": "stdout",
     "output_type": "stream",
     "text": [
      "Give any Input of x =78\n",
      "Give any value of y =54\n",
      "After Swapping :\n",
      " x= 54\n",
      " y= 78\n"
     ]
    }
   ],
   "source": [
    "x=int(input('Give any Input of x ='))\n",
    "y=int(input('Give any value of y ='))\n",
    "x=x+y\n",
    "y=x-y\n",
    "x=x-y\n",
    "print('After Swapping :')\n",
    "print(\" x=\",x)\n",
    "print(\" y=\",y)\n"
   ]
  },
  {
   "cell_type": "markdown",
   "id": "84308a27",
   "metadata": {},
   "source": [
    "### 2. Create a program that calculates the area of a rectangle. Take the length and width as inputs from the user and store them in variables. Calculate and display the area."
   ]
  },
  {
   "cell_type": "code",
   "execution_count": 11,
   "id": "8a667bbd",
   "metadata": {},
   "outputs": [
    {
     "name": "stdout",
     "output_type": "stream",
     "text": [
      "What is the length of the triangle = 45\n",
      "What is the Width of The Triangle =78\n",
      "Area OF The Rectangle is =  3510\n"
     ]
    }
   ],
   "source": [
    "Length=int(input(\"What is the length of the triangle = \"))\n",
    "Width=int(input(\"What is the Width of The Triangle =\"))\n",
    "Area = Length*Width\n",
    "print(\"Area OF The Rectangle is = \",Area)"
   ]
  },
  {
   "cell_type": "markdown",
   "id": "619aa198",
   "metadata": {},
   "source": [
    "### 3. Write a Python program that converts temperature from Celsius to Fahrenheit. Take the temperature in Celsius as input, store it in avariable, convert it to Fahrenheit, and display the result."
   ]
  },
  {
   "cell_type": "code",
   "execution_count": 70,
   "id": "1588c6d2",
   "metadata": {},
   "outputs": [
    {
     "name": "stdout",
     "output_type": "stream",
     "text": [
      "What the temprature right now In Celcius= 87\n",
      "Temprature in Fahrenheit=  188.6\n"
     ]
    }
   ],
   "source": [
    "Temprature= int(input('What the temprature right now In Celcius= '   ))\n",
    "Convert_to_Fahrenheit= (Temprature * 1.8) +32\n",
    "print(\"Temprature in Fahrenheit= \",Convert_to_Fahrenheit)"
   ]
  },
  {
   "cell_type": "markdown",
   "id": "7d2ec846",
   "metadata": {},
   "source": [
    "### 1. Write a Python program that takes a string as input and prints the length of the string."
   ]
  },
  {
   "cell_type": "code",
   "execution_count": 25,
   "id": "021cf0c7",
   "metadata": {},
   "outputs": [
    {
     "name": "stdout",
     "output_type": "stream",
     "text": [
      " Enter a String  : Pwskills Is really good\n",
      "23\n"
     ]
    }
   ],
   "source": [
    "_1=str(input(\" Enter a String  : \"))\n",
    "print(len(_1))"
   ]
  },
  {
   "cell_type": "markdown",
   "id": "78948c4e",
   "metadata": {},
   "source": [
    "### 2. Create a program that takes a sentence from the user and counts the number of vowels (a, e, i, o, u) in the string."
   ]
  },
  {
   "cell_type": "code",
   "execution_count": 26,
   "id": "8179f225",
   "metadata": {},
   "outputs": [
    {
     "name": "stdout",
     "output_type": "stream",
     "text": [
      " Write Any Sentence That =Krish Sir And Sudhanshu Sir Are best Teacher\n",
      "K is not vowel\n",
      "r is not vowel\n",
      "i is a vowel 0\n",
      "s is not vowel\n",
      "h is not vowel\n",
      "  is not vowel\n",
      "S is not vowel\n",
      "i is a vowel 1\n",
      "r is not vowel\n",
      "  is not vowel\n",
      "A is a vowel 2\n",
      "n is not vowel\n",
      "d is not vowel\n",
      "  is not vowel\n",
      "S is not vowel\n",
      "u is a vowel 3\n",
      "d is not vowel\n",
      "h is not vowel\n",
      "a is a vowel 4\n",
      "n is not vowel\n",
      "s is not vowel\n",
      "h is not vowel\n",
      "u is a vowel 5\n",
      "  is not vowel\n",
      "S is not vowel\n",
      "i is a vowel 6\n",
      "r is not vowel\n",
      "  is not vowel\n",
      "A is a vowel 7\n",
      "r is not vowel\n",
      "e is a vowel 8\n",
      "  is not vowel\n",
      "b is not vowel\n",
      "e is a vowel 9\n",
      "s is not vowel\n",
      "t is not vowel\n",
      "  is not vowel\n",
      "T is not vowel\n",
      "e is a vowel 10\n",
      "a is a vowel 11\n",
      "c is not vowel\n",
      "h is not vowel\n",
      "e is a vowel 12\n",
      "r is not vowel\n",
      "Number of vowel= 13\n"
     ]
    }
   ],
   "source": [
    "vowel=\"AaEeIiOoUu\"\n",
    "sentence =input(\" Write Any Sentence That =\")\n",
    "count=0\n",
    "for i in sentence:\n",
    "     if i in vowel:\n",
    "       print(i,\"is a vowel\",count)\n",
    "       count=count+1\n",
    "     else:\n",
    "        print(i,'is not vowel')\n",
    "print(\"Number of vowel=\",count)  \n",
    "        "
   ]
  },
  {
   "cell_type": "markdown",
   "id": "15065d9f",
   "metadata": {},
   "source": [
    "### 3.Given a string, reverse the order of characters using string slicing and print the reversed string."
   ]
  },
  {
   "cell_type": "code",
   "execution_count": 30,
   "id": "3c6c3fe3",
   "metadata": {},
   "outputs": [
    {
     "name": "stdout",
     "output_type": "stream",
     "text": [
      "romuh fO esneS dooG saH hsaY\n"
     ]
    }
   ],
   "source": [
    "Str_1=\"Yash Has Good Sense Of humor\"\n",
    "print(Str_1[::-1])"
   ]
  },
  {
   "cell_type": "markdown",
   "id": "81f450bf",
   "metadata": {},
   "source": [
    "### 4. Write a program that takes a string as input and checks if it is a palindrome (reads the same forwards and backwards)."
   ]
  },
  {
   "cell_type": "code",
   "execution_count": 34,
   "id": "379837db",
   "metadata": {},
   "outputs": [
    {
     "name": "stdout",
     "output_type": "stream",
     "text": [
      " Write the String =Civic\n",
      "Yes, the string is a palindrome.\n",
      "Yes, the string is a palindrome.\n",
      "Yes, the string is a palindrome.\n",
      "Yes, the string is a palindrome.\n",
      "Yes, the string is a palindrome.\n"
     ]
    }
   ],
   "source": [
    "str_2=input(\" Write the String =\")\n",
    "str_2=str_2.lower()\n",
    "for i in str_2:\n",
    "    if str_2==str_2[::-1]:\n",
    "        print(\"Yes, the string is a palindrome.\")\n",
    "        break\n",
    "    else:\n",
    "        print(\"No, the string is a palindrome.\")\n",
    "        break\n",
    "    \n"
   ]
  },
  {
   "cell_type": "markdown",
   "id": "b2004ccc",
   "metadata": {},
   "source": [
    "### 5.Create a program that takes a string as input and removes all the spaces from it. Print the modified string without spaces."
   ]
  },
  {
   "cell_type": "code",
   "execution_count": 31,
   "id": "5afc0a00",
   "metadata": {},
   "outputs": [
    {
     "name": "stdout",
     "output_type": "stream",
     "text": [
      " Write The String =Yash  Asth   ana  Vit Ve  llore\n",
      "YashAsthanaVitVellore\n"
     ]
    }
   ],
   "source": [
    "str_3=input(\" Write The String =\")\n",
    "print(str_3.replace(\" \",\"\"))"
   ]
  },
  {
   "cell_type": "code",
   "execution_count": null,
   "id": "92bc057f",
   "metadata": {},
   "outputs": [],
   "source": []
  }
 ],
 "metadata": {
  "kernelspec": {
   "display_name": "Python 3",
   "language": "python",
   "name": "python3"
  },
  "language_info": {
   "codemirror_mode": {
    "name": "ipython",
    "version": 3
   },
   "file_extension": ".py",
   "mimetype": "text/x-python",
   "name": "python",
   "nbconvert_exporter": "python",
   "pygments_lexer": "ipython3",
   "version": "3.8.8"
  }
 },
 "nbformat": 4,
 "nbformat_minor": 5
}
